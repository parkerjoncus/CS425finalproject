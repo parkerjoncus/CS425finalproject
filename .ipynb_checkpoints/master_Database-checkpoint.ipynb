{
 "cells": [
  {
   "cell_type": "code",
   "execution_count": 1,
   "metadata": {},
   "outputs": [
    {
     "name": "stdout",
     "output_type": "stream",
     "text": [
      "Requirement already satisfied: psycopg2==2.7.3.1 in /opt/conda/lib/python3.6/site-packages (from -r ./requirements.txt (line 1))\r\n",
      "Requirement already satisfied: wheel==0.24.0 in /opt/conda/lib/python3.6/site-packages (from -r ./requirements.txt (line 2))\r\n"
     ]
    }
   ],
   "source": [
    "!pip install -r ./requirements.txt"
   ]
  },
  {
   "cell_type": "code",
   "execution_count": 2,
   "metadata": {},
   "outputs": [
    {
     "name": "stdout",
     "output_type": "stream",
     "text": [
      "Requirement already satisfied: psycopg2 in /opt/conda/lib/python3.6/site-packages\n",
      "Requirement already satisfied: pprint in /opt/conda/lib/python3.6/site-packages\n"
     ]
    }
   ],
   "source": [
    "!pip install psycopg2\n",
    "!pip install pprint"
   ]
  },
  {
   "cell_type": "code",
   "execution_count": 15,
   "metadata": {
    "collapsed": true,
    "scrolled": true
   },
   "outputs": [],
   "source": [
    "#!/usr/bin/python\n",
    "import psycopg2\n",
    "import sys\n",
    "\n",
    "def main():\n",
    "\n",
    "    try:\n",
    "        conn = psycopg2.connect(\"dbname='mydb' user='user1' host='localhost' password='test'\")\n",
    "    except:\n",
    "        print('unable to connect')\n",
    "        \n",
    "    #cur=conn.cursor()\n",
    "    \n",
    "    command1=1\n",
    "    print('Welcome to flight app!')\n",
    "    command1=int(input('Enter 1 to sign in or Enter 2 to sign up. \\n'))\n",
    "    if command1==1:\n",
    "        email=input('Enter email: ')\n",
    "        cur.execute('SELECT COUNT(email) FROM purchaser WHERE email=(%s)', email )\n",
    "        login=cur.fetchall()\n",
    "        if (login<1):\n",
    "            print('Could not find your account')\n",
    "            return\n",
    "    elif command1==2:\n",
    "        email=input('Enter email: ')\n",
    "        name=input('Enter your name: ')\n",
    "        cur.execute('INSERT INTO purchaser VALUES (%s, %s, %s)', (email, None, name)) \n",
    "    else:\n",
    "        print('Must sign in or sign up to use application')\n",
    "        return\n",
    "    \n",
    "    command2=1\n",
    "    while (command2==1 or command2==2 or command2==3 or command2==4 or command2==5 or command2==6):\n",
    "        command2=int(input('Options: \\nEnter 1 to add user infromation. \\nEnter 2 to edit user information. \\nEnter 3 to enroll in an airline milage program. \\nEnter 4 to search for flight connections. \\nEnter 5 to book a flight. \\nEnter 6 to modify bookings. \\nEnter any other number to quit. \\n'))\n",
    "       \n",
    "        if command2==1:\n",
    "            command3=int(input('Enter 1 to add payment information. \\nEnter 2 to add an address. \\n'))\n",
    "            \n",
    "            if command3==1:\n",
    "                cardnum=input('Enter the credit card number: ')\n",
    "                civ=input('Enter the security code: ')\n",
    "                expiration=input('Enter the expiration date: ')\n",
    "                Type=input('Enter the type of credit card (Visa, Mastercard, Discover...): ')\n",
    "                bank=input('Enter the bank it is associated with: ')\n",
    "                streetnum=input('Enter the billing address street number: ')\n",
    "                streetname=input('Enter the billing address street name: ')\n",
    "                Zip=input('Enter the billing address zip code: ')\n",
    "                city=input('Enter the billing address city: ')\n",
    "                state=input('Enter the billing address state: ')\n",
    "                cur.execute('SELECT COUNT(*) FROM address WHERE streetnum=%s AND streetname=%s AND zip=%s', (streetnum, streetname, Zip))\n",
    "                add_exist=cur.fetchall()\n",
    "                if (add_exist==0):\n",
    "                    cur.execute('INSERT INTO address VALUES (%s,%s,%s,%s,%s)',(streetnum,streetname,Zip,city,state))\n",
    "                cur.execute('INSERT INTO billing_address VALUES (%s,%s,%s,%s)',(cardnum,streetnum,streetname,zip))\n",
    "                cur.execute('INSERT INTO credit_cards VALUES (%s,%s,%s,%s,%s,%s,%s,%s,%s)',(cardnum,email,civ,expiration,Type,bank,streetnum,streetname,Zip))\n",
    "                print('payment method added \\n')\n",
    "                \n",
    "            elif command3==2:\n",
    "                streetnum=input('Enter the address street number: ')\n",
    "                streetname=input('Enter the address street name: ')\n",
    "                Zip=input('Enter the address zip code: ')\n",
    "                city=input('Enter the address city: ')\n",
    "                state=input('Enter the address state: ')\n",
    "                cur.execute('INSERT INTO address VALUES (%s,%s,%s,%s,%s)',(streetnum,streetname,Zip,city,state))\n",
    "                #check to see if this is a living address\n",
    "                print('added address')\n",
    "                \n",
    "        elif command2==2:\n",
    "            command3=int(input('Enter 1 to modify existing information. \\nEnter 2 to delete existing information. \\n'))\n",
    "            \n",
    "            if command3==1:\n",
    "                command4=int(input('Enter 1 to modify billing address. \\nEnter 2 to modify your addresses'))\n",
    "                \n",
    "                if command4==1:\n",
    "                    cardnum=input('Enter the credit card number: ')\n",
    "                    streetnum=input('Enter the new billing address street number: ')\n",
    "                    streetname=input('Enter the new billing address street name: ')\n",
    "                    Zip=input('Enter the new billing address zip code: ')\n",
    "                    city=input('Enter the new billing address city: ')\n",
    "                    state=input('Enter the new billing address state: ')\n",
    "                    #check that the new address is in address, if not add it.\n",
    "                    cur.execute('UPDATE billing_address SET streetnum=%s AND streetname=%s AND zip=%s WHERE cardnum=%s AND email=%s',(streetnum,streetname,Zip,cardnum, email))\n",
    "                    print('billing address is updated.')\n",
    "                elif command4==2:\n",
    "                    old_streetnum=input('Enter the old billing address street number: ')\n",
    "                    old_streetname=input('Enter the old billing address street name: ')\n",
    "                    old_Zip=input('Enter the old billing address zip code: ')\n",
    "                    streetnum=input('Enter the new billing address street number: ')\n",
    "                    streetname=input('Enter the new billing address street name: ')\n",
    "                    Zip=input('Enter the new billing address zip code: ')\n",
    "                    city=input('Enter the new billing address city: ')\n",
    "                    state=input('Enter the new billing address state: ')\n",
    "                    cur.execute('UPDATE address SET streetnum=%s AND streetname=%s AND zip=%s AND city=%s AND state=%s WHERE streetname=%s AND streetnum=%s AND zip=%s',(streetnum, streetname, Zip, city, state, old_streename, old_streetnum, old_Zip))\n",
    "                    print('address is updated.')\n",
    "            \n",
    "            elif command3==2:\n",
    "                command4=int(input('Enter 1 to delete payment information. \\nEnter 2 to delete your addresses'))\n",
    "                if command4==1:\n",
    "                    cardnum=input('Enter the credit card number you wish to delete: ')\n",
    "                    cur.execute('DELETE FROM credit_cards WHERE cardnum=%s AND email=%s', (cardnum, email))\n",
    "                    print('Credit Card deleted.')\n",
    "                elif command4==2:\n",
    "                    streetnum=input('Enter the address street number you wish to delete: ')\n",
    "                    streetname=input('Enter the address street name you wish to delete: ')\n",
    "                    Zip=input('Enter the address zip code you wish to delete: ')\n",
    "                    cur.execute('DELETE FROM address WHERE streetnum=%s AND streetname=%s AND zip=%s AND (%s,%s,%s) NOT IN (SELECT streetnum,streetname,zip FROM billing_address WHERE streetnum=%s AND streetname=%s AND zip=%s)',(streetnum, streetname, Zip, streetnum, streetname, Zip, streetnum, streetname, Zip))\n",
    "                    print('address deleted')\n",
    "        \n",
    "        elif command2==3:\n",
    "            cur.execute('SELECT aId, name FROM airline')\n",
    "            rows = cur.fetchall()\n",
    "            print('aID   Airline')\n",
    "            for row in rows:\n",
    "                print \"   \", row\n",
    "            airline=input('Enter the airline aID that has the milage program you wish to enroll in. ')\n",
    "            #need a way to check what ailrines have a milage program\n",
    "            cur.execute('INSERT INTO mileage_program VALUES (%s,%s,%s)',(airline, email, None))\n",
    "            print('enrolled in mileage program')\n",
    "            #maybe add a way to withdraw from mileage program.\n",
    "        \n",
    "        elif command2==4:\n",
    "            cur.execute('SELECT IATA, name FROM airport')\n",
    "            rows = cur.fetchall()\n",
    "            for row in rows:\n",
    "                print \"   \", row\n",
    "            from_airport=input('Enter the IATA of the starting airport. \\n')\n",
    "            to_airport=input('Enter the IATA of the destination airport. \\n')\n",
    "            cur.execute('SELECT * FROM schedule WHERE iata_from=%s AND iata_to=%s',(from_airport,to_airport))\n",
    "            rows = cur.fetchall()\n",
    "            for row in rows:\n",
    "                print \"   \", row\n",
    "        \n",
    "        elif command2==5:\n",
    "            from_airport=input('Where are you departing from? \\n')\n",
    "            to_airport=input('Where are you flying to? \\n')\n",
    "            date=input('Enter the desired departure date.')\n",
    "#            print('find tickets given info')\n",
    "        \n",
    "        elif command2==6:\n",
    "            pass\n",
    "#            print('modify bookings')"
   ]
  },
  {
   "cell_type": "code",
   "execution_count": 16,
   "metadata": {},
   "outputs": [
    {
     "name": "stdout",
     "output_type": "stream",
     "text": [
      "unable to connect\n",
      "Welcome to flight app!\n",
      "Enter 1 to sign in or Enter 2 to sign up. \n",
      "9\n",
      "Must sign in or sign up to use application\n"
     ]
    }
   ],
   "source": [
    "main()"
   ]
  },
  {
   "cell_type": "code",
   "execution_count": 15,
   "metadata": {},
   "outputs": [
    {
     "ename": "SyntaxError",
     "evalue": "Missing parentheses in call to 'print' (<ipython-input-15-1bf6a04765de>, line 8)",
     "output_type": "error",
     "traceback": [
      "\u001b[0;36m  File \u001b[0;32m\"<ipython-input-15-1bf6a04765de>\"\u001b[0;36m, line \u001b[0;32m8\u001b[0m\n\u001b[0;31m    print \"I can't SELECT from student\"\u001b[0m\n\u001b[0m                                      ^\u001b[0m\n\u001b[0;31mSyntaxError\u001b[0m\u001b[0;31m:\u001b[0m Missing parentheses in call to 'print'\n"
     ]
    }
   ],
   "source": [
    "# Create a curson\n",
    "cur = conn.cursor()\n",
    "\n",
    "# Execute a statements and fetch results\n",
    "try:\n",
    "    cur.execute(\"SELECT name FROM student\")\n",
    "except:\n",
    "    print \"I can't SELECT from student\"\n",
    "\n",
    "# now let's fetch all the rows and print them\n",
    "rows = cur.fetchall()\n",
    "print \"\\nResults: \\n\"\n",
    "for row in rows:\n",
    "    print \"   \", row\n",
    "\n",
    "\n",
    "# now a query with more result columns\n",
    "try:\n",
    "    cur.execute(\"SELECT id, name, tot_cred FROM student ORDER BY name ASC\")\n",
    "except:\n",
    "    print \"I can't SELECT from student\"\n",
    "\n",
    "rows = cur.fetchall()\n",
    "print \"\\nResults: \\n\"\n",
    "for row in rows:\n",
    "    print \"   \", row\n",
    "    print \" or to access a particular column (2nd one):\", row[1]\n",
    "\n",
    "# close the connection\n",
    "cur.close()\n",
    "\n",
    "# close the connection\n",
    "conn.close()\n"
   ]
  },
  {
   "cell_type": "code",
   "execution_count": 15,
   "metadata": {},
   "outputs": [
    {
     "name": "stdout",
     "output_type": "stream",
     "text": [
      "unable to connect\n"
     ]
    }
   ],
   "source": [
    "#!/usr/bin/python\n",
    "import psycopg2\n",
    "import sys\n",
    "\n",
    "try:\n",
    "    conn = psycopg2.connect(\"dbname='flight_info' user='parkerjoncus' host='localhost' password='secret'\")\n",
    "except:\n",
    "    print('unable to connect')\n",
    "        "
   ]
  },
  {
   "cell_type": "code",
   "execution_count": null,
   "metadata": {
    "collapsed": true
   },
   "outputs": [],
   "source": []
  }
 ],
 "metadata": {
  "kernelspec": {
   "display_name": "Python 3",
   "language": "python",
   "name": "python3"
  },
  "language_info": {
   "codemirror_mode": {
    "name": "ipython",
    "version": 3
   },
   "file_extension": ".py",
   "mimetype": "text/x-python",
   "name": "python",
   "nbconvert_exporter": "python",
   "pygments_lexer": "ipython3",
   "version": "3.6.2"
  }
 },
 "nbformat": 4,
 "nbformat_minor": 2
}
