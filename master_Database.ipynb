{
 "cells": [
  {
   "cell_type": "code",
   "execution_count": 1,
   "metadata": {},
   "outputs": [
    {
     "name": "stdout",
     "output_type": "stream",
     "text": [
      "Requirement already satisfied: psycopg2==2.7.3.1 in /opt/conda/lib/python3.6/site-packages (from -r ./requirements.txt (line 1))\r\n",
      "Requirement already satisfied: wheel==0.24.0 in /opt/conda/lib/python3.6/site-packages (from -r ./requirements.txt (line 2))\r\n"
     ]
    }
   ],
   "source": [
    "!pip install -r ./requirements.txt"
   ]
  },
  {
   "cell_type": "code",
   "execution_count": 2,
   "metadata": {},
   "outputs": [
    {
     "name": "stdout",
     "output_type": "stream",
     "text": [
      "Requirement already satisfied: psycopg2 in /opt/conda/lib/python3.6/site-packages\n",
      "Requirement already satisfied: pprint in /opt/conda/lib/python3.6/site-packages\n"
     ]
    }
   ],
   "source": [
    "!pip install psycopg2\n",
    "!pip install pprint"
   ]
  },
  {
   "cell_type": "code",
   "execution_count": 7,
   "metadata": {
    "collapsed": true,
    "scrolled": true
   },
   "outputs": [],
   "source": [
    "#!/usr/bin/python\n",
    "import psycopg2\n",
    "import sys\n",
    "\n",
    "def main():\n",
    "\n",
    "    try:\n",
    "        conn = psycopg2.connect(\"dbname='mydb' user='user1' host='localhost' password='test'\")\n",
    "    except:\n",
    "        print('unable to connect')\n",
    "        \n",
    "    #cur=conn.cursor()\n",
    "    \n",
    "    command1=1\n",
    "    print('Welcome to flight app!')\n",
    "    command1=int(input('Enter 1 to sign in or Enter 2 to sign up. \\n'))\n",
    "    if command1==1:\n",
    "-        print('check account')\n",
    "    elif command1==2:\n",
    "-        print('add user to database, allow option to enter some information, but not required (credit card/ address/ airport') \n",
    "    \n",
    "    command2=1\n",
    "    while (command2==1 or command2==2 or command2==3 or command2==4 or command2==5 or command2==6):\n",
    "        command2=int(input('Options: \\nEnter 1 to add user infromation. \\nEnter 2 to edit user information. \\nEnter 3 to enroll in an airline milage program. \\nEnter 4 to search for flight connections. \\nEnter 5 to book a flight. \\nEnter 6 to modify bookings. \\nEnter any other number to quit. \\n'))\n",
    "        if command2==1:\n",
    "            command3=int(input('Enter 1 to add payment information. \\nEnter 2 to add an address. \\n'))\n",
    "            if command3==1:\n",
    "-                print('add payment method')\n",
    "            elif command3==2:\n",
    "-                print('add address')\n",
    "        elif command2==2:\n",
    "            command3=int(input('Enter 1 to modify existing information. \\nEnter 2 to delete existing information. \\n'))\n",
    "            if command3==1:\n",
    "                command4=int(input('Enter 1 to modify payment information. \\nEnter 2 to modify your addresses'))\n",
    "                if command4==1:\n",
    "-                    print('modify payment info')\n",
    "                elif command4==2:\n",
    "-                    print('modify address')\n",
    "            elif command3==2:\n",
    "                command4=int(input('Enter 1 to delete payment information. \\nEnter 2 to delete your addresses'))\n",
    "                if command4==1:\n",
    "-                    print('delete payment info')\n",
    "                elif command4==2:\n",
    "-                    print('delete address')\n",
    "        elif command2==3:\n",
    "-            print('enroll in mileage program')\n",
    "        elif command2==4:\n",
    "            from_airport=input('Enter starting airport. \\n')\n",
    "            to_airport=input('Enter destination airport. \\n')\n",
    "-            print('search for flight connections')\n",
    "        elif command2==5:\n",
    "            from_airport=input('Where are you departing from? \\n')\n",
    "            to_airport=input('Where are you flying to? \\n')\n",
    "            date=input('Enter the desired departure date.')\n",
    "-            print('find tickets given info')\n",
    "        elif command2==6:\n",
    "-            print('modify bookings')"
   ]
  },
  {
   "cell_type": "code",
   "execution_count": 7,
   "metadata": {},
   "outputs": [
    {
     "name": "stdout",
     "output_type": "stream",
     "text": [
      "unable to connect\n",
      "Welcome to flight app!\n",
      "Enter 1 to sign in or Enter 2 to sign up. \n",
      "0\n",
      "Options: \n",
      "Enter 1 to add user infromation. \n",
      "Enter 2 to edit user information. \n",
      "Enter 3 to enroll in an airline milage program. \n",
      "Enter 4 to search for flight connections. \n",
      "Enter 5 to book a flight. \n",
      "Enter 6 to modify bookings. \n",
      "Enter any other number to quit. \n",
      "0\n"
     ]
    }
   ],
   "source": [
    "main()"
   ]
  },
  {
   "cell_type": "code",
   "execution_count": 15,
   "metadata": {},
   "outputs": [
    {
     "ename": "SyntaxError",
     "evalue": "Missing parentheses in call to 'print' (<ipython-input-15-1bf6a04765de>, line 8)",
     "output_type": "error",
     "traceback": [
      "\u001b[0;36m  File \u001b[0;32m\"<ipython-input-15-1bf6a04765de>\"\u001b[0;36m, line \u001b[0;32m8\u001b[0m\n\u001b[0;31m    print \"I can't SELECT from student\"\u001b[0m\n\u001b[0m                                      ^\u001b[0m\n\u001b[0;31mSyntaxError\u001b[0m\u001b[0;31m:\u001b[0m Missing parentheses in call to 'print'\n"
     ]
    }
   ],
   "source": [
    "# Create a curson\n",
    "cur = conn.cursor()\n",
    "\n",
    "# Execute a statements and fetch results\n",
    "try:\n",
    "    cur.execute(\"SELECT name FROM student\")\n",
    "except:\n",
    "    print \"I can't SELECT from student\"\n",
    "\n",
    "# now let's fetch all the rows and print them\n",
    "rows = cur.fetchall()\n",
    "print \"\\nResults: \\n\"\n",
    "for row in rows:\n",
    "    print \"   \", row\n",
    "\n",
    "\n",
    "# now a query with more result columns\n",
    "try:\n",
    "    cur.execute(\"SELECT id, name, tot_cred FROM student ORDER BY name ASC\")\n",
    "except:\n",
    "    print \"I can't SELECT from student\"\n",
    "\n",
    "rows = cur.fetchall()\n",
    "print \"\\nResults: \\n\"\n",
    "for row in rows:\n",
    "    print \"   \", row\n",
    "    print \" or to access a particular column (2nd one):\", row[1]\n",
    "\n",
    "# close the connection\n",
    "cur.close()\n",
    "\n",
    "# close the connection\n",
    "conn.close()\n"
   ]
  },
  {
   "cell_type": "code",
   "execution_count": 15,
   "metadata": {},
   "outputs": [
    {
     "name": "stdout",
     "output_type": "stream",
     "text": [
      "unable to connect\n"
     ]
    }
   ],
   "source": [
    "#!/usr/bin/python\n",
    "import psycopg2\n",
    "import sys\n",
    "\n",
    "try:\n",
    "    conn = psycopg2.connect(\"dbname='flight_info' user='parkerjoncus' host='localhost' password='secret'\")\n",
    "except:\n",
    "    print('unable to connect')\n",
    "        "
   ]
  },
  {
   "cell_type": "code",
   "execution_count": null,
   "metadata": {
    "collapsed": true
   },
   "outputs": [],
   "source": []
  }
 ],
 "metadata": {
  "kernelspec": {
   "display_name": "Python 3",
   "language": "python",
   "name": "python3"
  },
  "language_info": {
   "codemirror_mode": {
    "name": "ipython",
    "version": 3
   },
   "file_extension": ".py",
   "mimetype": "text/x-python",
   "name": "python",
   "nbconvert_exporter": "python",
   "pygments_lexer": "ipython3",
   "version": "3.6.2"
  }
 },
 "nbformat": 4,
 "nbformat_minor": 2
}
