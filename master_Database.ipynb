{
 "cells": [
  {
   "cell_type": "code",
   "execution_count": 33,
   "metadata": {
    "scrolled": true
   },
   "outputs": [],
   "source": [
    "def main():\n",
    "    import psycopg2\n",
    "    import sys\n",
    "\n",
    "    try:\n",
    "        conn = psycopg2.connect(\"dbname='flight_info' user='postgres' host='localhost' password='test'\")\n",
    "    except:\n",
    "        print('unable to connect')\n",
    "        \n",
    "    #cur=conn.cursor()\n",
    "    \n",
    "    command=1\n",
    "    while (command!=0):\n",
    "        command=int(input('enter number that does somthing, and 0 to quit '))\n",
    "        \n",
    "        \n",
    "    "
   ]
  },
  {
   "cell_type": "code",
   "execution_count": 25,
   "metadata": {},
   "outputs": [
    {
     "ename": "SyntaxError",
     "evalue": "Missing parentheses in call to 'print' (<ipython-input-25-1bf6a04765de>, line 8)",
     "output_type": "error",
     "traceback": [
      "\u001b[0;36m  File \u001b[0;32m\"<ipython-input-25-1bf6a04765de>\"\u001b[0;36m, line \u001b[0;32m8\u001b[0m\n\u001b[0;31m    print \"I can't SELECT from student\"\u001b[0m\n\u001b[0m                                      ^\u001b[0m\n\u001b[0;31mSyntaxError\u001b[0m\u001b[0;31m:\u001b[0m Missing parentheses in call to 'print'\n"
     ]
    }
   ],
   "source": [
    "# Create a curson\n",
    "cur = conn.cursor()\n",
    "\n",
    "# Execute a statements and fetch results\n",
    "try:\n",
    "    cur.execute(\"SELECT name FROM student\")\n",
    "except:\n",
    "    print \"I can't SELECT from student\"\n",
    "\n",
    "# now let's fetch all the rows and print them\n",
    "rows = cur.fetchall()\n",
    "print \"\\nResults: \\n\"\n",
    "for row in rows:\n",
    "    print \"   \", row\n",
    "\n",
    "\n",
    "# now a query with more result columns\n",
    "try:\n",
    "    cur.execute(\"SELECT id, name, tot_cred FROM student ORDER BY name ASC\")\n",
    "except:\n",
    "    print \"I can't SELECT from student\"\n",
    "\n",
    "rows = cur.fetchall()\n",
    "print \"\\nResults: \\n\"\n",
    "for row in rows:\n",
    "    print \"   \", row\n",
    "    print \" or to access a particular column (2nd one):\", row[1]\n",
    "\n",
    "# close the connection\n",
    "cur.close()\n",
    "\n",
    "# close the connection\n",
    "conn.close()\n"
   ]
  },
  {
   "cell_type": "code",
   "execution_count": 34,
   "metadata": {},
   "outputs": [
    {
     "name": "stdout",
     "output_type": "stream",
     "text": [
      "unable to connect\n",
      "enter number that does somthing, and 0 to quit 1\n",
      "enter number that does somthing, and 0 to quit 1\n",
      "enter number that does somthing, and 0 to quit 0\n"
     ]
    }
   ],
   "source": [
    "main()"
   ]
  },
  {
   "cell_type": "markdown",
   "metadata": {},
   "source": []
  }
 ],
 "metadata": {
  "kernelspec": {
   "display_name": "Python 3",
   "language": "python",
   "name": "python3"
  },
  "language_info": {
   "codemirror_mode": {
    "name": "ipython",
    "version": 3
   },
   "file_extension": ".py",
   "mimetype": "text/x-python",
   "name": "python",
   "nbconvert_exporter": "python",
   "pygments_lexer": "ipython3",
   "version": "3.6.2"
  }
 },
 "nbformat": 4,
 "nbformat_minor": 2
}
